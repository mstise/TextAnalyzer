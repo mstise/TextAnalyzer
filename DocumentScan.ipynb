{
 "cells": [
  {
   "cell_type": "code",
   "execution_count": 199,
   "metadata": {
    "collapsed": true
   },
   "outputs": [],
   "source": [
    "import os\n",
    "import xml.etree.ElementTree\n",
    "from whoosh.index import create_in\n",
    "from whoosh.index import open_dir\n",
    "from whoosh.fields import *"
   ]
  },
  {
   "cell_type": "code",
   "execution_count": 194,
   "metadata": {},
   "outputs": [],
   "source": [
    "ix = open_dir(\"/home/erisos/WhooshTest\")"
   ]
  },
  {
   "cell_type": "code",
   "execution_count": 198,
   "metadata": {},
   "outputs": [
    {
     "name": "stdout",
     "output_type": "stream",
     "text": [
      "<Hit {'path': '01_10_vendsyssel_tir_s010_11_lokal____1807_201707180000_1007065313.xml', 'title': 'Lang ønskeseddel'}>\n",
      "<Hit {'path': '01_11_vendsyssel_tir_s011_11_lokal____1807_201707180000_1007065313.xml', 'title': 'Lang ønskeseddel'}>\n",
      "<Hit {'path': '00_18_1-_sektion_lør_s018_01_sport____2207_201707220000_1007933417.xml', 'title': ''}>\n",
      "<Hit {'path': '00_08_1-_sektion_søn_s008_01_kultur___0907_201707090000_1007749586.xml', 'title': 'God italiensk drue'}>\n",
      "<Hit {'path': '00_04_aalborg_man_s004_02_nordjyll_2407_201707240000_1007941085.xml', 'title': 'Hjallerup Bibelcamping'}>\n",
      "<Hit {'path': '01_04_himmerland_man_s004_13_nordjyll_2407_201707240000_1007941085.xml', 'title': 'Hjallerup Bibelcamping'}>\n",
      "<Hit {'path': '01_04_vendsyssel_man_s004_11_nordjyll_2407_201707240000_1007941085.xml', 'title': 'Hjallerup Bibelcamping'}>\n",
      "<Hit {'path': '09_04_thisted_dagblad_man_s004_94_nordjyll_2407_201707240000_1007941085.xml', 'title': 'Hjallerup Bibelcamping'}>\n",
      "<Hit {'path': '06_17_morsø_folkeblad_lør_s017_61_lokalt___2907_201707290000_1007926616.xml', 'title': 'Kig efter ...'}>\n",
      "<Hit {'path': '00_18_aalborg_man_s018_02_nordjyll_2407_201707240000_1007940412.xml', 'title': 'Mærk om hvalpen er tryg ved mennesker'}>\n"
     ]
    }
   ],
   "source": [
    "from whoosh.qparser import QueryParser\n",
    "with ix.searcher() as searcher:\n",
    "    query = QueryParser(\"content\", ix.schema).parse(\"er\")\n",
    "    results = searcher.search(query)\n",
    "    for result in results:\n",
    "        print(result)"
   ]
  },
  {
   "cell_type": "code",
   "execution_count": 200,
   "metadata": {},
   "outputs": [],
   "source": [
    "def readXML(node):\n",
    "    global body\n",
    "    global header\n",
    "    tag = node.tag[38:]\n",
    "    if (tag == \"p\"):\n",
    "        if (isinstance(node.text, str)):\n",
    "            body += node.text\n",
    "    if (tag == \"hl1\"):\n",
    "        header = node.text\n",
    "    for child in node:\n",
    "        readXML(child)"
   ]
  },
  {
   "cell_type": "code",
   "execution_count": 201,
   "metadata": {},
   "outputs": [
    {
     "ename": "OSError",
     "evalue": "[Errno 5] Input/output error: '/home/erisos/Articles/mnt/newsarchive_share/2017-07-15/TabletXML/00_02_3-_sektion_lør_s002_03_wee______1507_201707150000_noid1620170714220310029.xml'",
     "traceback": [
      "\u001b[0;31m---------------------------------------------------------------------------\u001b[0m",
      "\u001b[0;31mOSError\u001b[0m                                   Traceback (most recent call last)",
      "\u001b[0;32m<ipython-input-201-3a9aaebf5cca>\u001b[0m in \u001b[0;36m<module>\u001b[0;34m()\u001b[0m\n\u001b[1;32m     11\u001b[0m         \u001b[0;32mfor\u001b[0m \u001b[0mfilename\u001b[0m \u001b[0;32min\u001b[0m \u001b[0mos\u001b[0m\u001b[0;34m.\u001b[0m\u001b[0mlistdir\u001b[0m\u001b[0;34m(\u001b[0m\u001b[0msubdir\u001b[0m\u001b[0;34m)\u001b[0m\u001b[0;34m:\u001b[0m\u001b[0;34m\u001b[0m\u001b[0m\n\u001b[1;32m     12\u001b[0m             \u001b[0;32mif\u001b[0m \u001b[0;34m(\u001b[0m\u001b[0mfilename\u001b[0m\u001b[0;34m[\u001b[0m\u001b[0;34m-\u001b[0m\u001b[0;36m4\u001b[0m\u001b[0;34m:\u001b[0m\u001b[0;34m]\u001b[0m \u001b[0;34m==\u001b[0m \u001b[0;34m\".xml\"\u001b[0m\u001b[0;34m)\u001b[0m\u001b[0;34m:\u001b[0m\u001b[0;34m\u001b[0m\u001b[0m\n\u001b[0;32m---> 13\u001b[0;31m                 \u001b[0mreadXML\u001b[0m\u001b[0;34m(\u001b[0m\u001b[0mxml\u001b[0m\u001b[0;34m.\u001b[0m\u001b[0metree\u001b[0m\u001b[0;34m.\u001b[0m\u001b[0mElementTree\u001b[0m\u001b[0;34m.\u001b[0m\u001b[0mparse\u001b[0m\u001b[0;34m(\u001b[0m\u001b[0msubdir\u001b[0m \u001b[0;34m+\u001b[0m \u001b[0;34m'/'\u001b[0m \u001b[0;34m+\u001b[0m \u001b[0mfilename\u001b[0m\u001b[0;34m)\u001b[0m\u001b[0;34m.\u001b[0m\u001b[0mgetroot\u001b[0m\u001b[0;34m(\u001b[0m\u001b[0;34m)\u001b[0m\u001b[0;34m)\u001b[0m\u001b[0;34m\u001b[0m\u001b[0m\n\u001b[0m\u001b[1;32m     14\u001b[0m                 writer.add_document(title=header, path=filename,\n\u001b[1;32m     15\u001b[0m                                     content=body)\n",
      "\u001b[0;32m/home/erisos/anaconda3/lib/python3.6/xml/etree/ElementTree.py\u001b[0m in \u001b[0;36mparse\u001b[0;34m(source, parser)\u001b[0m\n\u001b[1;32m   1194\u001b[0m     \"\"\"\n\u001b[1;32m   1195\u001b[0m     \u001b[0mtree\u001b[0m \u001b[0;34m=\u001b[0m \u001b[0mElementTree\u001b[0m\u001b[0;34m(\u001b[0m\u001b[0;34m)\u001b[0m\u001b[0;34m\u001b[0m\u001b[0m\n\u001b[0;32m-> 1196\u001b[0;31m     \u001b[0mtree\u001b[0m\u001b[0;34m.\u001b[0m\u001b[0mparse\u001b[0m\u001b[0;34m(\u001b[0m\u001b[0msource\u001b[0m\u001b[0;34m,\u001b[0m \u001b[0mparser\u001b[0m\u001b[0;34m)\u001b[0m\u001b[0;34m\u001b[0m\u001b[0m\n\u001b[0m\u001b[1;32m   1197\u001b[0m     \u001b[0;32mreturn\u001b[0m \u001b[0mtree\u001b[0m\u001b[0;34m\u001b[0m\u001b[0m\n\u001b[1;32m   1198\u001b[0m \u001b[0;34m\u001b[0m\u001b[0m\n",
      "\u001b[0;32m/home/erisos/anaconda3/lib/python3.6/xml/etree/ElementTree.py\u001b[0m in \u001b[0;36mparse\u001b[0;34m(self, source, parser)\u001b[0m\n\u001b[1;32m    584\u001b[0m         \u001b[0mclose_source\u001b[0m \u001b[0;34m=\u001b[0m \u001b[0;32mFalse\u001b[0m\u001b[0;34m\u001b[0m\u001b[0m\n\u001b[1;32m    585\u001b[0m         \u001b[0;32mif\u001b[0m \u001b[0;32mnot\u001b[0m \u001b[0mhasattr\u001b[0m\u001b[0;34m(\u001b[0m\u001b[0msource\u001b[0m\u001b[0;34m,\u001b[0m \u001b[0;34m\"read\"\u001b[0m\u001b[0;34m)\u001b[0m\u001b[0;34m:\u001b[0m\u001b[0;34m\u001b[0m\u001b[0m\n\u001b[0;32m--> 586\u001b[0;31m             \u001b[0msource\u001b[0m \u001b[0;34m=\u001b[0m \u001b[0mopen\u001b[0m\u001b[0;34m(\u001b[0m\u001b[0msource\u001b[0m\u001b[0;34m,\u001b[0m \u001b[0;34m\"rb\"\u001b[0m\u001b[0;34m)\u001b[0m\u001b[0;34m\u001b[0m\u001b[0m\n\u001b[0m\u001b[1;32m    587\u001b[0m             \u001b[0mclose_source\u001b[0m \u001b[0;34m=\u001b[0m \u001b[0;32mTrue\u001b[0m\u001b[0;34m\u001b[0m\u001b[0m\n\u001b[1;32m    588\u001b[0m         \u001b[0;32mtry\u001b[0m\u001b[0;34m:\u001b[0m\u001b[0;34m\u001b[0m\u001b[0m\n",
      "\u001b[0;31mOSError\u001b[0m: [Errno 5] Input/output error: '/home/erisos/Articles/mnt/newsarchive_share/2017-07-15/TabletXML/00_02_3-_sektion_lør_s002_03_wee______1507_201707150000_noid1620170714220310029.xml'"
     ],
     "output_type": "error"
    }
   ],
   "source": [
    "body = \"\"\n",
    "header = \"\"\n",
    "\n",
    "schema = Schema(title=TEXT(stored=True), path=ID(stored=True), content=TEXT)\n",
    "ix = create_in(\"/home/erisos/WhooshTest\", schema)\n",
    "writer = ix.writer()\n",
    "\n",
    "for subdir, dirs, files in os.walk('/home/erisos/Articles/mnt/newsarchive_share'):\n",
    "    if (subdir[-10:] == \"/TabletXML\"):\n",
    "        counter += 1\n",
    "        for filename in os.listdir(subdir):\n",
    "            if (filename[-4:] == \".xml\"):\n",
    "                readXML(xml.etree.ElementTree.parse(subdir + '/' + filename).getroot())\n",
    "                writer.add_document(title=header, path=filename,\n",
    "                                    content=body)\n",
    "                body = \"\"\n",
    "                header = \"\"\n",
    "\n",
    "writer.commit()"
   ]
  }
 ],
 "metadata": {
  "kernelspec": {
   "display_name": "Python 3",
   "language": "python",
   "name": "python3"
  },
  "language_info": {
   "codemirror_mode": {
    "name": "ipython",
    "version": 3
   },
   "file_extension": ".py",
   "mimetype": "text/x-python",
   "name": "python",
   "nbconvert_exporter": "python",
   "pygments_lexer": "ipython3",
   "version": "3.6.1"
  }
 },
 "nbformat": 4,
 "nbformat_minor": 2
}
